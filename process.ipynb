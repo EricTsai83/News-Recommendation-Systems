{
 "cells": [
  {
   "cell_type": "code",
   "execution_count": 1,
   "metadata": {},
   "outputs": [],
   "source": [
    "import numpy as np\n",
    "import pandas as pd"
   ]
  },
  {
   "cell_type": "code",
   "execution_count": 2,
   "metadata": {},
   "outputs": [],
   "source": [
    "kmeans_data = pd.read_csv('kmeans_data.csv')\n",
    "kmeans_group_num = pd.read_csv('kmeans_group_num.csv')\n",
    "final_final = pd.read_csv('final_final.csv')#使用者的點擊紀錄資料集(已經BY_user去去除最後兩筆資料)\n",
    "df_news_all = pd.read_csv('df_news_all.csv')#含新聞內容的資料集，請參考我的目錄\n",
    "news_info = pd.read_csv('news_info.csv')"
   ]
  },
  {
   "cell_type": "code",
   "execution_count": 3,
   "metadata": {},
   "outputs": [],
   "source": [
    "user_based_data = pd.read_csv('user_based_data.csv')\n",
    "user_news_rating = pd.read_csv('user_news_rating.csv')\n",
    "validation_testing_data = pd.read_csv('validation_testing_data.csv')"
   ]
  },
  {
   "cell_type": "markdown",
   "metadata": {},
   "source": [
    "# user_based by KNN"
   ]
  },
  {
   "cell_type": "code",
   "execution_count": 4,
   "metadata": {},
   "outputs": [],
   "source": [
    "from knn_from_scratch import knn, euclidean_distance\n",
    "\n",
    "def recommend_user(user_query_feature, k_recommendations):\n",
    "    user_prefer_data = []\n",
    "#############################################################\n",
    "    with open('user_based_data.csv', 'r') as md:\n",
    "##############################################################\n",
    "        # Discard the first line (headings)\n",
    "        next(md)    # next() 返回迭代對象的下一個項目\n",
    "\n",
    "        # Read the data into memory\n",
    "        for line in md.readlines():\n",
    "            data_row = line.strip().split(',')  # .strip()去掉 row 頭尾空白 \n",
    "            user_prefer_data.append(data_row)\n",
    "\n",
    "    # Prepare the data for use in the knn algorithm by picking\n",
    "    # the relevant columns and converting the numeric columns\n",
    "    # to numbers since they were read in as strings\n",
    "    # 將資料型態轉為 float\n",
    "    user_recommendation_data = []\n",
    "    for row in user_prefer_data:\n",
    "        data_row = list(map(float, row[1:]))\n",
    "        user_recommendation_data.append(data_row)\n",
    "\n",
    "    # Use the KNN algorithm to get the 5 user that are most\n",
    "    # similar to particulr user.\n",
    "    # recommendation_indices, _ :這樣的寫法是為了只回傳第一個結果(有用的結果)\n",
    "    \n",
    "    recommendation_indices, _ = knn(\n",
    "        user_recommendation_data, user_query_feature, k=k_recommendations,\n",
    "        distance_fn=euclidean_distance, choice_fn=lambda x: None\n",
    "    )\n",
    "    \n",
    "    user_recommendations = []\n",
    "    for _, index in recommendation_indices:\n",
    "        user_recommendations.append(user_prefer_data[index])\n",
    "\n",
    "    return user_recommendations\n"
   ]
  },
  {
   "cell_type": "code",
   "execution_count": 5,
   "metadata": {},
   "outputs": [],
   "source": [
    "#########################################################\n",
    "###############################################\n",
    "choice_user_id_index = 70  # index 為 0 的 user\n",
    "###############################################\n",
    "#########################################################\n",
    "main_user_feature = user_based_data.iloc[choice_user_id_index,1:] # feature vector for The Post\n",
    "recommended_user = recommend_user(user_query_feature=main_user_feature, k_recommendations=1001)"
   ]
  },
  {
   "cell_type": "code",
   "execution_count": 6,
   "metadata": {},
   "outputs": [],
   "source": [
    "# Print recommended movie titles\n",
    "recommendation_id_list = []\n",
    "for recommendation in recommended_user:\n",
    "    recommendation_id_list.append(recommendation[0])"
   ]
  },
  {
   "cell_type": "code",
   "execution_count": 7,
   "metadata": {},
   "outputs": [],
   "source": [
    "# 刪除 user 自己的 id\n",
    "i = -1\n",
    "for recommendation_user in recommendation_id_list:\n",
    "    i = i + 1\n",
    "    if  user_based_data.iloc[choice_user_id_index,0] == recommendation_user:\n",
    "        recommendation_id_list.pop(i)"
   ]
  },
  {
   "cell_type": "code",
   "execution_count": 8,
   "metadata": {},
   "outputs": [],
   "source": [
    "#回傳的內容是相似使用者看過目標使用者沒看過的資料\n",
    "def getNotSeenNewsbyUserid(userid_a,userid_b,csv):\n",
    "    a_HaveRead=set(csv[csv.user_id==userid_a].news_id)\n",
    "    b_HaveRead=set(csv[csv.user_id==userid_b].news_id)\n",
    "    a_NotSeenNews=b_HaveRead-a_HaveRead\n",
    "    temp_dict={userid_b:list(a_NotSeenNews)}\n",
    "    return temp_dict"
   ]
  },
  {
   "cell_type": "code",
   "execution_count": 9,
   "metadata": {},
   "outputs": [],
   "source": [
    "def test(userid,similar_users,pred_time,df,by='user'):\n",
    "    uid=[]\n",
    "    nid=[]\n",
    "    #by使用者數量\n",
    "    if by=='user':\n",
    "        for x in similar_users[:TopSimilar_user]:\n",
    "            temp=getNotSeenNewsbyUserid(userid,x,df)\n",
    "            uid.extend(temp.keys())\n",
    "            nid.extend(list(temp.values())[0])\n",
    "\n",
    "        final_df=df[(df.user_id.isin(uid))&(df.news_id.isin(nid))&(df.time<=int(pred_time))]\n",
    "    #by新聞數量\n",
    "    else:\n",
    "        for x in similar_users:\n",
    "            if len(nid)<TopNews:\n",
    "                temp=getNotSeenNewsbyUserid(userid,x,df)\n",
    "                uid.extend(temp.keys())\n",
    "                nid.extend(list(temp.values())[0])\n",
    "            else:\n",
    "                break\n",
    "\n",
    "        final_df=df[(df.user_id.isin(uid))&(df.news_id.isin(nid))&(df.time<=int(pred_time))]\n",
    "        final_df=final_df.head(TopNews)\n",
    "    return final_df"
   ]
  },
  {
   "cell_type": "code",
   "execution_count": 10,
   "metadata": {},
   "outputs": [],
   "source": [
    "##################################################################################\n",
    "#############################################################\n",
    "#目標user_id\n",
    "target_user=user_based_data.user_id[choice_user_id_index]\n",
    "#相似使用者(list)已經依照相似程度大到小排序\n",
    "similar_user= recommendation_id_list\n",
    "#兩種方式(預設user)\n",
    "by='user/news'\n",
    "#最相似的幾個使用者有看過且目標沒看過的新聞\n",
    "TopSimilar_user=600\n",
    "#取出目標沒看過的新聞筆數\n",
    "TopNews=2000\n",
    "#要預測的日期(意思是說超過這個時間點發布的新聞不算)\n",
    "pred_time= validation_testing_data.time.values[validation_testing_data.user_id == target_user][0]\n",
    "df= user_news_rating\n",
    "#############################################################\n",
    "##################################################################################"
   ]
  },
  {
   "cell_type": "code",
   "execution_count": 11,
   "metadata": {},
   "outputs": [],
   "source": [
    "user_based_recommendation=test(target_user,similar_user,pred_time,df,by='user')"
   ]
  },
  {
   "cell_type": "code",
   "execution_count": 12,
   "metadata": {},
   "outputs": [],
   "source": [
    "# 有多少人看過該新聞才將新聞納入候選集合\n",
    "n = 2"
   ]
  },
  {
   "cell_type": "code",
   "execution_count": 13,
   "metadata": {},
   "outputs": [],
   "source": [
    "news_count = user_based_recommendation.groupby('news_id').size().reset_index(name='counts')\n",
    "news_count_threshold = news_count[news_count.counts >= n]\n",
    "news_count_threshold = news_count_threshold.reset_index(drop=True)"
   ]
  },
  {
   "cell_type": "code",
   "execution_count": 14,
   "metadata": {},
   "outputs": [],
   "source": [
    "user_based_recommendation = user_based_recommendation[user_based_recommendation.news_id.isin(news_count_threshold.news_id)]"
   ]
  },
  {
   "cell_type": "code",
   "execution_count": 15,
   "metadata": {},
   "outputs": [],
   "source": [
    "user_based_recommendation = user_based_recommendation.reset_index(drop=True)"
   ]
  },
  {
   "cell_type": "code",
   "execution_count": 16,
   "metadata": {},
   "outputs": [],
   "source": [
    "user_based_recommendation.to_csv('user_based_recommendation.csv',index=0)"
   ]
  },
  {
   "cell_type": "markdown",
   "metadata": {},
   "source": [
    "# save 要推薦的 user id"
   ]
  },
  {
   "cell_type": "code",
   "execution_count": 17,
   "metadata": {},
   "outputs": [],
   "source": [
    "# 要推薦的 user_id\n",
    "recommendation_user_id = user_based_data.user_id[choice_user_id_index]\n",
    "recommendation_user_id = pd.DataFrame([recommendation_user_id])"
   ]
  },
  {
   "cell_type": "code",
   "execution_count": 18,
   "metadata": {},
   "outputs": [],
   "source": [
    "recommendation_user_id.to_csv('target_user_id.csv',index=0)"
   ]
  },
  {
   "cell_type": "code",
   "execution_count": 19,
   "metadata": {},
   "outputs": [
    {
     "data": {
      "text/html": [
       "<div>\n",
       "<style scoped>\n",
       "    .dataframe tbody tr th:only-of-type {\n",
       "        vertical-align: middle;\n",
       "    }\n",
       "\n",
       "    .dataframe tbody tr th {\n",
       "        vertical-align: top;\n",
       "    }\n",
       "\n",
       "    .dataframe thead th {\n",
       "        text-align: right;\n",
       "    }\n",
       "</style>\n",
       "<table border=\"1\" class=\"dataframe\">\n",
       "  <thead>\n",
       "    <tr style=\"text-align: right;\">\n",
       "      <th></th>\n",
       "      <th>user_id</th>\n",
       "      <th>group</th>\n",
       "    </tr>\n",
       "  </thead>\n",
       "  <tbody>\n",
       "    <tr>\n",
       "      <th>0</th>\n",
       "      <td>00039bc1-c70c-404d-9a16-5ec2227061f7</td>\n",
       "      <td>201</td>\n",
       "    </tr>\n",
       "    <tr>\n",
       "      <th>1</th>\n",
       "      <td>0007d630-bb89-4682-a59e-fffa85eeee30</td>\n",
       "      <td>50</td>\n",
       "    </tr>\n",
       "    <tr>\n",
       "      <th>2</th>\n",
       "      <td>0010e97e-641a-4e39-b811-3b9edcccbc1c</td>\n",
       "      <td>1</td>\n",
       "    </tr>\n",
       "    <tr>\n",
       "      <th>3</th>\n",
       "      <td>001129e7-1c73-4cd7-bc6a-a449eed3043a</td>\n",
       "      <td>291</td>\n",
       "    </tr>\n",
       "    <tr>\n",
       "      <th>4</th>\n",
       "      <td>0018e637-3354-46d8-9ec8-5886e680e4f4</td>\n",
       "      <td>1</td>\n",
       "    </tr>\n",
       "  </tbody>\n",
       "</table>\n",
       "</div>"
      ],
      "text/plain": [
       "                                user_id  group\n",
       "0  00039bc1-c70c-404d-9a16-5ec2227061f7    201\n",
       "1  0007d630-bb89-4682-a59e-fffa85eeee30     50\n",
       "2  0010e97e-641a-4e39-b811-3b9edcccbc1c      1\n",
       "3  001129e7-1c73-4cd7-bc6a-a449eed3043a    291\n",
       "4  0018e637-3354-46d8-9ec8-5886e680e4f4      1"
      ]
     },
     "execution_count": 19,
     "metadata": {},
     "output_type": "execute_result"
    }
   ],
   "source": [
    "kmeans_data.head()"
   ]
  },
  {
   "cell_type": "code",
   "execution_count": 20,
   "metadata": {},
   "outputs": [
    {
     "data": {
      "text/html": [
       "<div>\n",
       "<style scoped>\n",
       "    .dataframe tbody tr th:only-of-type {\n",
       "        vertical-align: middle;\n",
       "    }\n",
       "\n",
       "    .dataframe tbody tr th {\n",
       "        vertical-align: top;\n",
       "    }\n",
       "\n",
       "    .dataframe thead th {\n",
       "        text-align: right;\n",
       "    }\n",
       "</style>\n",
       "<table border=\"1\" class=\"dataframe\">\n",
       "  <thead>\n",
       "    <tr style=\"text-align: right;\">\n",
       "      <th></th>\n",
       "      <th>user_id</th>\n",
       "      <th>group</th>\n",
       "    </tr>\n",
       "  </thead>\n",
       "  <tbody>\n",
       "    <tr>\n",
       "      <th>70</th>\n",
       "      <td>00edfca4-4b0a-46fc-820b-1f793debec19</td>\n",
       "      <td>1</td>\n",
       "    </tr>\n",
       "  </tbody>\n",
       "</table>\n",
       "</div>"
      ],
      "text/plain": [
       "                                 user_id  group\n",
       "70  00edfca4-4b0a-46fc-820b-1f793debec19      1"
      ]
     },
     "execution_count": 20,
     "metadata": {},
     "output_type": "execute_result"
    }
   ],
   "source": [
    "# 該 user 的 group\n",
    "user_group = kmeans_data[kmeans_data.user_id == recommendation_user_id.iloc[0,:].values[0]]\n",
    "user_group"
   ]
  },
  {
   "cell_type": "code",
   "execution_count": 21,
   "metadata": {},
   "outputs": [
    {
     "data": {
      "text/plain": [
       "1    8845\n",
       "Name: group_num, dtype: int64"
      ]
     },
     "execution_count": 21,
     "metadata": {},
     "output_type": "execute_result"
    }
   ],
   "source": [
    "# 找出該 group 的人數\n",
    "kmeans_group_num.group_num[kmeans_group_num.group == int(user_group.group)]"
   ]
  },
  {
   "cell_type": "markdown",
   "metadata": {},
   "source": [
    "# 用k-means 的分類結果 train bert"
   ]
  },
  {
   "cell_type": "code",
   "execution_count": 22,
   "metadata": {},
   "outputs": [],
   "source": [
    "t=['time','user_id','news_id']\n",
    "final_final = final_final[t]"
   ]
  },
  {
   "cell_type": "code",
   "execution_count": 23,
   "metadata": {},
   "outputs": [
    {
     "data": {
      "text/html": [
       "<div>\n",
       "<style scoped>\n",
       "    .dataframe tbody tr th:only-of-type {\n",
       "        vertical-align: middle;\n",
       "    }\n",
       "\n",
       "    .dataframe tbody tr th {\n",
       "        vertical-align: top;\n",
       "    }\n",
       "\n",
       "    .dataframe thead th {\n",
       "        text-align: right;\n",
       "    }\n",
       "</style>\n",
       "<table border=\"1\" class=\"dataframe\">\n",
       "  <thead>\n",
       "    <tr style=\"text-align: right;\">\n",
       "      <th></th>\n",
       "      <th>user_id</th>\n",
       "      <th>group</th>\n",
       "    </tr>\n",
       "  </thead>\n",
       "  <tbody>\n",
       "    <tr>\n",
       "      <th>0</th>\n",
       "      <td>00039bc1-c70c-404d-9a16-5ec2227061f7</td>\n",
       "      <td>201</td>\n",
       "    </tr>\n",
       "    <tr>\n",
       "      <th>1</th>\n",
       "      <td>0007d630-bb89-4682-a59e-fffa85eeee30</td>\n",
       "      <td>50</td>\n",
       "    </tr>\n",
       "    <tr>\n",
       "      <th>2</th>\n",
       "      <td>0010e97e-641a-4e39-b811-3b9edcccbc1c</td>\n",
       "      <td>1</td>\n",
       "    </tr>\n",
       "    <tr>\n",
       "      <th>3</th>\n",
       "      <td>001129e7-1c73-4cd7-bc6a-a449eed3043a</td>\n",
       "      <td>291</td>\n",
       "    </tr>\n",
       "    <tr>\n",
       "      <th>4</th>\n",
       "      <td>0018e637-3354-46d8-9ec8-5886e680e4f4</td>\n",
       "      <td>1</td>\n",
       "    </tr>\n",
       "  </tbody>\n",
       "</table>\n",
       "</div>"
      ],
      "text/plain": [
       "                                user_id  group\n",
       "0  00039bc1-c70c-404d-9a16-5ec2227061f7    201\n",
       "1  0007d630-bb89-4682-a59e-fffa85eeee30     50\n",
       "2  0010e97e-641a-4e39-b811-3b9edcccbc1c      1\n",
       "3  001129e7-1c73-4cd7-bc6a-a449eed3043a    291\n",
       "4  0018e637-3354-46d8-9ec8-5886e680e4f4      1"
      ]
     },
     "execution_count": 23,
     "metadata": {},
     "output_type": "execute_result"
    }
   ],
   "source": [
    "kmeans_data.head()"
   ]
  },
  {
   "cell_type": "code",
   "execution_count": 24,
   "metadata": {},
   "outputs": [],
   "source": [
    "#找出K群的ID\n",
    "group = int(user_group.group)\n",
    "kmeans_data_group = kmeans_data[kmeans_data.group == group]\n",
    "\n",
    "#找出K群ID中的所有點集資料\n",
    "kmeans_group_user_list = final_final[final_final.user_id.isin(kmeans_data_group.user_id)]"
   ]
  },
  {
   "cell_type": "code",
   "execution_count": 25,
   "metadata": {},
   "outputs": [],
   "source": [
    "#取K群所有點集資料的唯一新聞ID\n",
    "kmeans_group_unique_news=np.unique(kmeans_group_user_list.news_id)"
   ]
  },
  {
   "cell_type": "code",
   "execution_count": 26,
   "metadata": {},
   "outputs": [
    {
     "data": {
      "text/html": [
       "<div>\n",
       "<style scoped>\n",
       "    .dataframe tbody tr th:only-of-type {\n",
       "        vertical-align: middle;\n",
       "    }\n",
       "\n",
       "    .dataframe tbody tr th {\n",
       "        vertical-align: top;\n",
       "    }\n",
       "\n",
       "    .dataframe thead th {\n",
       "        text-align: right;\n",
       "    }\n",
       "</style>\n",
       "<table border=\"1\" class=\"dataframe\">\n",
       "  <thead>\n",
       "    <tr style=\"text-align: right;\">\n",
       "      <th></th>\n",
       "      <th>path</th>\n",
       "      <th>date</th>\n",
       "      <th>news_guid</th>\n",
       "      <th>title</th>\n",
       "      <th>news_content</th>\n",
       "      <th>content_remove_html_tag</th>\n",
       "    </tr>\n",
       "  </thead>\n",
       "  <tbody>\n",
       "    <tr>\n",
       "      <th>0</th>\n",
       "      <td>../datasets/news/1999-06-14/0b7a5d15-7bcd-11d3...</td>\n",
       "      <td>19990614074852</td>\n",
       "      <td>0B7A5D15-7BCD-11D3-98FF-00E018A00403</td>\n",
       "      <td>導線架市場重新洗牌新台和順德談策略聯盟                           ...</td>\n",
       "      <td>\\n\\n\\n&lt;P&gt;在大廠壓縮小廠生存空間，小廠試圖尋求同業策略聯盟的趨勢下，國內3大導線架廠...</td>\n",
       "      <td>在大廠壓縮小廠生存空間，小廠試圖尋求同業策略聯盟的趨勢下，國內3大導線架廠包括順德、佳茂、旭...</td>\n",
       "    </tr>\n",
       "    <tr>\n",
       "      <th>1</th>\n",
       "      <td>../datasets/news/2009-08-06/3b508922-e6a5-4c25...</td>\n",
       "      <td>20090806111315</td>\n",
       "      <td>3B508922-E6A5-4C25-B80F-01E8B36BB835</td>\n",
       "      <td>建築鋼每噸利潤達1000元 中國鐵礦石庫存逼新高                      ...</td>\n",
       "      <td>\\n&lt;P&gt;精實新聞 2009-08-06 11:13:15 記者 余美慧 報導&lt;/P&gt;&lt;P&gt;...</td>\n",
       "      <td>精實新聞 2009-08-06 11:13:15 記者 余美慧 報導聯合金屬網統計，截至7月...</td>\n",
       "    </tr>\n",
       "    <tr>\n",
       "      <th>2</th>\n",
       "      <td>../datasets/news/2009-08-06/b325cc3e-e7b8-417a...</td>\n",
       "      <td>20090806074535</td>\n",
       "      <td>B325CC3E-E7B8-417A-8177-8BEA7A367F00</td>\n",
       "      <td>昇貿利基產品比重提升、新客戶加入，H2樂觀                         ...</td>\n",
       "      <td>\\n&lt;P&gt;精實新聞 2009-08-06 07:45:35 記者 楊喻斐 報導&lt;/P&gt;&lt;P&gt;...</td>\n",
       "      <td>精實新聞 2009-08-06 07:45:35 記者 楊喻斐 報導銲錫製品大廠昇貿(330...</td>\n",
       "    </tr>\n",
       "  </tbody>\n",
       "</table>\n",
       "</div>"
      ],
      "text/plain": [
       "                                                path            date  \\\n",
       "0  ../datasets/news/1999-06-14/0b7a5d15-7bcd-11d3...  19990614074852   \n",
       "1  ../datasets/news/2009-08-06/3b508922-e6a5-4c25...  20090806111315   \n",
       "2  ../datasets/news/2009-08-06/b325cc3e-e7b8-417a...  20090806074535   \n",
       "\n",
       "                              news_guid  \\\n",
       "0  0B7A5D15-7BCD-11D3-98FF-00E018A00403   \n",
       "1  3B508922-E6A5-4C25-B80F-01E8B36BB835   \n",
       "2  B325CC3E-E7B8-417A-8177-8BEA7A367F00   \n",
       "\n",
       "                                               title  \\\n",
       "0  導線架市場重新洗牌新台和順德談策略聯盟                           ...   \n",
       "1  建築鋼每噸利潤達1000元 中國鐵礦石庫存逼新高                      ...   \n",
       "2  昇貿利基產品比重提升、新客戶加入，H2樂觀                         ...   \n",
       "\n",
       "                                        news_content  \\\n",
       "0  \\n\\n\\n<P>在大廠壓縮小廠生存空間，小廠試圖尋求同業策略聯盟的趨勢下，國內3大導線架廠...   \n",
       "1  \\n<P>精實新聞 2009-08-06 11:13:15 記者 余美慧 報導</P><P>...   \n",
       "2  \\n<P>精實新聞 2009-08-06 07:45:35 記者 楊喻斐 報導</P><P>...   \n",
       "\n",
       "                             content_remove_html_tag  \n",
       "0  在大廠壓縮小廠生存空間，小廠試圖尋求同業策略聯盟的趨勢下，國內3大導線架廠包括順德、佳茂、旭...  \n",
       "1  精實新聞 2009-08-06 11:13:15 記者 余美慧 報導聯合金屬網統計，截至7月...  \n",
       "2  精實新聞 2009-08-06 07:45:35 記者 楊喻斐 報導銲錫製品大廠昇貿(330...  "
      ]
     },
     "execution_count": 26,
     "metadata": {},
     "output_type": "execute_result"
    }
   ],
   "source": [
    "df_news_all.head(3)"
   ]
  },
  {
   "cell_type": "code",
   "execution_count": 27,
   "metadata": {},
   "outputs": [],
   "source": [
    "#標記label\n",
    "# df_news_all['label']=0 # 新增一個  column 為 label，值都是 0\n",
    "df_news_all['label']=df_news_all['news_guid'].map(lambda x:1 if x in kmeans_group_unique_news else 0)"
   ]
  },
  {
   "cell_type": "code",
   "execution_count": 28,
   "metadata": {},
   "outputs": [
    {
     "data": {
      "text/plain": [
       "label\n",
       "0    30875\n",
       "1    17628\n",
       "dtype: int64"
      ]
     },
     "execution_count": 28,
     "metadata": {},
     "output_type": "execute_result"
    }
   ],
   "source": [
    "#查看分布比例\n",
    "df_news_all.groupby('label').size()"
   ]
  },
  {
   "cell_type": "code",
   "execution_count": 29,
   "metadata": {},
   "outputs": [
    {
     "data": {
      "text/html": [
       "<div>\n",
       "<style scoped>\n",
       "    .dataframe tbody tr th:only-of-type {\n",
       "        vertical-align: middle;\n",
       "    }\n",
       "\n",
       "    .dataframe tbody tr th {\n",
       "        vertical-align: top;\n",
       "    }\n",
       "\n",
       "    .dataframe thead th {\n",
       "        text-align: right;\n",
       "    }\n",
       "</style>\n",
       "<table border=\"1\" class=\"dataframe\">\n",
       "  <thead>\n",
       "    <tr style=\"text-align: right;\">\n",
       "      <th></th>\n",
       "      <th>path</th>\n",
       "      <th>date</th>\n",
       "      <th>news_guid</th>\n",
       "      <th>title</th>\n",
       "      <th>news_content</th>\n",
       "      <th>content_remove_html_tag</th>\n",
       "      <th>label</th>\n",
       "    </tr>\n",
       "  </thead>\n",
       "  <tbody>\n",
       "    <tr>\n",
       "      <th>0</th>\n",
       "      <td>../datasets/news/1999-06-14/0b7a5d15-7bcd-11d3...</td>\n",
       "      <td>19990614074852</td>\n",
       "      <td>0B7A5D15-7BCD-11D3-98FF-00E018A00403</td>\n",
       "      <td>導線架市場重新洗牌新台和順德談策略聯盟                           ...</td>\n",
       "      <td>\\n\\n\\n&lt;P&gt;在大廠壓縮小廠生存空間，小廠試圖尋求同業策略聯盟的趨勢下，國內3大導線架廠...</td>\n",
       "      <td>在大廠壓縮小廠生存空間，小廠試圖尋求同業策略聯盟的趨勢下，國內3大導線架廠包括順德、佳茂、旭...</td>\n",
       "      <td>0</td>\n",
       "    </tr>\n",
       "    <tr>\n",
       "      <th>1</th>\n",
       "      <td>../datasets/news/2009-08-06/3b508922-e6a5-4c25...</td>\n",
       "      <td>20090806111315</td>\n",
       "      <td>3B508922-E6A5-4C25-B80F-01E8B36BB835</td>\n",
       "      <td>建築鋼每噸利潤達1000元 中國鐵礦石庫存逼新高                      ...</td>\n",
       "      <td>\\n&lt;P&gt;精實新聞 2009-08-06 11:13:15 記者 余美慧 報導&lt;/P&gt;&lt;P&gt;...</td>\n",
       "      <td>精實新聞 2009-08-06 11:13:15 記者 余美慧 報導聯合金屬網統計，截至7月...</td>\n",
       "      <td>0</td>\n",
       "    </tr>\n",
       "  </tbody>\n",
       "</table>\n",
       "</div>"
      ],
      "text/plain": [
       "                                                path            date  \\\n",
       "0  ../datasets/news/1999-06-14/0b7a5d15-7bcd-11d3...  19990614074852   \n",
       "1  ../datasets/news/2009-08-06/3b508922-e6a5-4c25...  20090806111315   \n",
       "\n",
       "                              news_guid  \\\n",
       "0  0B7A5D15-7BCD-11D3-98FF-00E018A00403   \n",
       "1  3B508922-E6A5-4C25-B80F-01E8B36BB835   \n",
       "\n",
       "                                               title  \\\n",
       "0  導線架市場重新洗牌新台和順德談策略聯盟                           ...   \n",
       "1  建築鋼每噸利潤達1000元 中國鐵礦石庫存逼新高                      ...   \n",
       "\n",
       "                                        news_content  \\\n",
       "0  \\n\\n\\n<P>在大廠壓縮小廠生存空間，小廠試圖尋求同業策略聯盟的趨勢下，國內3大導線架廠...   \n",
       "1  \\n<P>精實新聞 2009-08-06 11:13:15 記者 余美慧 報導</P><P>...   \n",
       "\n",
       "                             content_remove_html_tag  label  \n",
       "0  在大廠壓縮小廠生存空間，小廠試圖尋求同業策略聯盟的趨勢下，國內3大導線架廠包括順德、佳茂、旭...      0  \n",
       "1  精實新聞 2009-08-06 11:13:15 記者 余美慧 報導聯合金屬網統計，截至7月...      0  "
      ]
     },
     "execution_count": 29,
     "metadata": {},
     "output_type": "execute_result"
    }
   ],
   "source": [
    "df_news_all.head(2)"
   ]
  },
  {
   "cell_type": "code",
   "execution_count": 30,
   "metadata": {},
   "outputs": [],
   "source": [
    "# 刪除未發布的時間\n",
    "li = []\n",
    "for i in range(len(df_news_all)):\n",
    "    if df_news_all.date[i] > pred_time:\n",
    "        li.append(df_news_all.index[i])"
   ]
  },
  {
   "cell_type": "code",
   "execution_count": 31,
   "metadata": {},
   "outputs": [],
   "source": [
    "df_news_all = df_news_all.drop(li)"
   ]
  },
  {
   "cell_type": "code",
   "execution_count": 32,
   "metadata": {},
   "outputs": [],
   "source": [
    "# #要丟進BERT的資料集\n",
    "df_news_all.to_csv('bert_train_data.csv', index = 0)"
   ]
  },
  {
   "cell_type": "code",
   "execution_count": null,
   "metadata": {},
   "outputs": [],
   "source": []
  },
  {
   "cell_type": "code",
   "execution_count": null,
   "metadata": {},
   "outputs": [],
   "source": []
  },
  {
   "cell_type": "markdown",
   "metadata": {},
   "source": [
    "# 用 knn 找出相似 user 看過， target user 卻沒看過的 news 當 bert 的 test data"
   ]
  },
  {
   "cell_type": "code",
   "execution_count": 33,
   "metadata": {},
   "outputs": [],
   "source": [
    "user_based_recommendation_unique_news_id=np.unique(user_based_recommendation.news_id)"
   ]
  },
  {
   "cell_type": "code",
   "execution_count": 34,
   "metadata": {},
   "outputs": [],
   "source": [
    "user_based_recommendation_news = df_news_all[df_news_all.news_guid.isin(user_based_recommendation_unique_news_id)]"
   ]
  },
  {
   "cell_type": "code",
   "execution_count": 35,
   "metadata": {},
   "outputs": [
    {
     "data": {
      "text/html": [
       "<div>\n",
       "<style scoped>\n",
       "    .dataframe tbody tr th:only-of-type {\n",
       "        vertical-align: middle;\n",
       "    }\n",
       "\n",
       "    .dataframe tbody tr th {\n",
       "        vertical-align: top;\n",
       "    }\n",
       "\n",
       "    .dataframe thead th {\n",
       "        text-align: right;\n",
       "    }\n",
       "</style>\n",
       "<table border=\"1\" class=\"dataframe\">\n",
       "  <thead>\n",
       "    <tr style=\"text-align: right;\">\n",
       "      <th></th>\n",
       "      <th>path</th>\n",
       "      <th>date</th>\n",
       "      <th>news_guid</th>\n",
       "      <th>title</th>\n",
       "      <th>news_content</th>\n",
       "      <th>content_remove_html_tag</th>\n",
       "      <th>label</th>\n",
       "    </tr>\n",
       "  </thead>\n",
       "  <tbody>\n",
       "    <tr>\n",
       "      <th>183</th>\n",
       "      <td>../datasets/news/2018-02-12/9b2e10c5-1eee-4081...</td>\n",
       "      <td>20180212104054</td>\n",
       "      <td>9B2E10C5-1EEE-4081-A3AB-566A99845EF5</td>\n",
       "      <td>《1月營收》出貨迎成長，醫揚/聯合創新高                          ...</td>\n",
       "      <td>\\n&lt;P&gt;MoneyDJ新聞 2018-02-12 10:40:54 記者 劉莞青 報導&lt;/...</td>\n",
       "      <td>MoneyDJ新聞 2018-02-12 10:40:54 記者 劉莞青 報導聯合(4129...</td>\n",
       "      <td>1</td>\n",
       "    </tr>\n",
       "    <tr>\n",
       "      <th>184</th>\n",
       "      <td>../datasets/news/2018-02-12/3e3b2e23-2780-4aae...</td>\n",
       "      <td>20180212095805</td>\n",
       "      <td>3E3B2E23-2780-4AAE-9B54-BC01F2E29526</td>\n",
       "      <td>《1月營收》被動元件、擴產各擁題材，多家營收創高                      ...</td>\n",
       "      <td>\\n&lt;P&gt;MoneyDJ新聞 2018-02-12 09:58:05 記者 林詩茵 報導&lt;/...</td>\n",
       "      <td>MoneyDJ新聞 2018-02-12 09:58:05 記者 林詩茵 報導被動元件廠商受...</td>\n",
       "      <td>1</td>\n",
       "    </tr>\n",
       "  </tbody>\n",
       "</table>\n",
       "</div>"
      ],
      "text/plain": [
       "                                                  path            date  \\\n",
       "183  ../datasets/news/2018-02-12/9b2e10c5-1eee-4081...  20180212104054   \n",
       "184  ../datasets/news/2018-02-12/3e3b2e23-2780-4aae...  20180212095805   \n",
       "\n",
       "                                news_guid  \\\n",
       "183  9B2E10C5-1EEE-4081-A3AB-566A99845EF5   \n",
       "184  3E3B2E23-2780-4AAE-9B54-BC01F2E29526   \n",
       "\n",
       "                                                 title  \\\n",
       "183  《1月營收》出貨迎成長，醫揚/聯合創新高                          ...   \n",
       "184  《1月營收》被動元件、擴產各擁題材，多家營收創高                      ...   \n",
       "\n",
       "                                          news_content  \\\n",
       "183  \\n<P>MoneyDJ新聞 2018-02-12 10:40:54 記者 劉莞青 報導</...   \n",
       "184  \\n<P>MoneyDJ新聞 2018-02-12 09:58:05 記者 林詩茵 報導</...   \n",
       "\n",
       "                               content_remove_html_tag  label  \n",
       "183  MoneyDJ新聞 2018-02-12 10:40:54 記者 劉莞青 報導聯合(4129...      1  \n",
       "184  MoneyDJ新聞 2018-02-12 09:58:05 記者 林詩茵 報導被動元件廠商受...      1  "
      ]
     },
     "execution_count": 35,
     "metadata": {},
     "output_type": "execute_result"
    }
   ],
   "source": [
    "user_based_recommendation_news.head(2)"
   ]
  },
  {
   "cell_type": "code",
   "execution_count": 36,
   "metadata": {},
   "outputs": [
    {
     "data": {
      "text/plain": [
       "label\n",
       "1    1651\n",
       "dtype: int64"
      ]
     },
     "execution_count": 36,
     "metadata": {},
     "output_type": "execute_result"
    }
   ],
   "source": [
    "user_based_recommendation_news.groupby('label').size()"
   ]
  },
  {
   "cell_type": "code",
   "execution_count": 37,
   "metadata": {},
   "outputs": [],
   "source": [
    "user_based_recommendation_news.to_csv('bert_test_data.csv', index = 0)"
   ]
  },
  {
   "cell_type": "code",
   "execution_count": null,
   "metadata": {},
   "outputs": [],
   "source": []
  },
  {
   "cell_type": "code",
   "execution_count": null,
   "metadata": {},
   "outputs": [],
   "source": []
  },
  {
   "cell_type": "code",
   "execution_count": null,
   "metadata": {},
   "outputs": [],
   "source": []
  },
  {
   "cell_type": "code",
   "execution_count": null,
   "metadata": {},
   "outputs": [],
   "source": []
  },
  {
   "cell_type": "code",
   "execution_count": null,
   "metadata": {},
   "outputs": [],
   "source": []
  },
  {
   "cell_type": "code",
   "execution_count": null,
   "metadata": {},
   "outputs": [],
   "source": []
  },
  {
   "cell_type": "code",
   "execution_count": null,
   "metadata": {},
   "outputs": [],
   "source": []
  },
  {
   "cell_type": "code",
   "execution_count": null,
   "metadata": {},
   "outputs": [],
   "source": []
  },
  {
   "cell_type": "code",
   "execution_count": null,
   "metadata": {},
   "outputs": [],
   "source": []
  },
  {
   "cell_type": "code",
   "execution_count": null,
   "metadata": {},
   "outputs": [],
   "source": []
  }
 ],
 "metadata": {
  "kernelspec": {
   "display_name": "Python 3",
   "language": "python",
   "name": "python3"
  },
  "language_info": {
   "codemirror_mode": {
    "name": "ipython",
    "version": 3
   },
   "file_extension": ".py",
   "mimetype": "text/x-python",
   "name": "python",
   "nbconvert_exporter": "python",
   "pygments_lexer": "ipython3",
   "version": "3.6.6"
  }
 },
 "nbformat": 4,
 "nbformat_minor": 2
}
