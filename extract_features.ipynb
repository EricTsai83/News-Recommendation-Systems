{
 "cells": [
  {
   "cell_type": "code",
   "execution_count": null,
   "metadata": {},
   "outputs": [],
   "source": [
    "title=[]\n",
    "content=[]\n",
    "title_content=[]\n",
    "\n",
    "for index,row in tqdm_notebook(df.iterrows()):\n",
    "    title.append(row['title'])\n",
    "    content.append(row['content_remove_html_tag'])\n",
    "    title_content.append(row['title']+' '+row['content_remove_html_tag'])\n",
    "    \n",
    "sp='|||'\n",
    "title_s=sp.join(title)\n",
    "content_s=sp.join(content)\n",
    "title_content_s=sp.join(title_content)\n"
   ]
  },
  {
   "cell_type": "code",
   "execution_count": null,
   "metadata": {},
   "outputs": [],
   "source": [
    "with open(\"title_s.txt\", \"w\") as text_file:\n",
    "    text_file.write(title_s)"
   ]
  },
  {
   "cell_type": "code",
   "execution_count": null,
   "metadata": {},
   "outputs": [],
   "source": [
    "with open(\"content_s.txt\", \"w\") as text_file:\n",
    "    text_file.write(content_s)"
   ]
  },
  {
   "cell_type": "code",
   "execution_count": null,
   "metadata": {},
   "outputs": [],
   "source": [
    "with open(\"title_content_s.txt\", \"w\") as text_file:\n",
    "    text_file.write(title_content_s)"
   ]
  },
  {
   "cell_type": "code",
   "execution_count": null,
   "metadata": {},
   "outputs": [],
   "source": []
  },
  {
   "cell_type": "code",
   "execution_count": null,
   "metadata": {},
   "outputs": [],
   "source": []
  },
  {
   "cell_type": "code",
   "execution_count": 8,
   "metadata": {},
   "outputs": [
    {
     "name": "stdout",
     "output_type": "stream",
     "text": [
      "Traceback (most recent call last):\n",
      "  File \"abcdefg.py\", line 27, in <module>\n",
      "    import torch\n",
      "ModuleNotFoundError: No module named 'torch'\n"
     ]
    }
   ],
   "source": [
    "!python abcdefg.py \\\n",
    "  --input_file = bert_result.content_remove_html_tag[0] \\\n",
    "  --output_file = bert_feature_vector\\\n",
    "  --vocab_file = chinese_L-12_H-768_A-12/vocab.txt \\\n",
    "  --bert_config_file = chinese_L-12_H-768_A-12/bert_config.json \\\n",
    "  --init_checkpoint= /tmp/news_output/model.ckpt-36400.index \\\n",
    "  --layers=-1 \\\n",
    "  --max_seq_length=512 \\\n",
    "  --batch_size=8"
   ]
  },
  {
   "cell_type": "code",
   "execution_count": null,
   "metadata": {},
   "outputs": [],
   "source": []
  }
 ],
 "metadata": {
  "kernelspec": {
   "display_name": "Python 3",
   "language": "python",
   "name": "python3"
  },
  "language_info": {
   "codemirror_mode": {
    "name": "ipython",
    "version": 3
   },
   "file_extension": ".py",
   "mimetype": "text/x-python",
   "name": "python",
   "nbconvert_exporter": "python",
   "pygments_lexer": "ipython3",
   "version": "3.6.6"
  }
 },
 "nbformat": 4,
 "nbformat_minor": 2
}
