{
 "cells": [
  {
   "cell_type": "code",
   "execution_count": 1,
   "metadata": {},
   "outputs": [],
   "source": [
    "from sklearn.model_selection import train_test_split\n",
    "import pandas as pd\n",
    "import numpy as np\n",
    "import pickle"
   ]
  },
  {
   "cell_type": "code",
   "execution_count": 2,
   "metadata": {},
   "outputs": [],
   "source": [
    "user_based_recommendation = pd.read_csv('/python/recommender_system/bert_test_data.csv')\n",
    "validation_test_data=pd.read_csv('/python/recommender_system/validation_testing_data.csv')\n",
    "df_news_all=pd.read_csv('/python/recommender_system/df_news_all.csv')#新聞內容\n",
    "target_user_id=pd.read_csv('/python/recommender_system/target_user_id.csv') # 預測者的ID"
   ]
  },
  {
   "cell_type": "code",
   "execution_count": 3,
   "metadata": {},
   "outputs": [],
   "source": [
    "#讀取目標user_id\n",
    "target_user_id=target_user_id.iloc[0,:].values[0]"
   ]
  },
  {
   "cell_type": "code",
   "execution_count": 4,
   "metadata": {},
   "outputs": [],
   "source": [
    "#從validation_test_data中找出user_id的validation 的新聞\n",
    "validation_data_guid = validation_test_data[validation_test_data.user_id == target_user_id].iloc[0,:].guid"
   ]
  },
  {
   "cell_type": "code",
   "execution_count": 5,
   "metadata": {},
   "outputs": [],
   "source": [
    "df_news_all['label']=1"
   ]
  },
  {
   "cell_type": "code",
   "execution_count": 6,
   "metadata": {},
   "outputs": [],
   "source": [
    "#抓取validation_data_guid的新聞\n",
    "temp = df_news_all[df_news_all.news_guid==validation_data_guid]"
   ]
  },
  {
   "cell_type": "code",
   "execution_count": 7,
   "metadata": {},
   "outputs": [
    {
     "name": "stdout",
     "output_type": "stream",
     "text": [
      "目標已存在候選集合當中\n"
     ]
    }
   ],
   "source": [
    "#如果不存在裡面的話，就把加入Validation_data\n",
    "if user_based_recommendation[user_based_recommendation.news_guid==validation_data_guid].empty:\n",
    "    print('目標不存在候選集合當中')\n",
    "    user_based_recommendation=user_based_recommendation.append(temp)\n",
    "else:\n",
    "    print('目標已存在候選集合當中')"
   ]
  },
  {
   "cell_type": "code",
   "execution_count": 8,
   "metadata": {},
   "outputs": [
    {
     "data": {
      "text/html": [
       "<div>\n",
       "<style scoped>\n",
       "    .dataframe tbody tr th:only-of-type {\n",
       "        vertical-align: middle;\n",
       "    }\n",
       "\n",
       "    .dataframe tbody tr th {\n",
       "        vertical-align: top;\n",
       "    }\n",
       "\n",
       "    .dataframe thead th {\n",
       "        text-align: right;\n",
       "    }\n",
       "</style>\n",
       "<table border=\"1\" class=\"dataframe\">\n",
       "  <thead>\n",
       "    <tr style=\"text-align: right;\">\n",
       "      <th></th>\n",
       "      <th>path</th>\n",
       "      <th>date</th>\n",
       "      <th>news_guid</th>\n",
       "      <th>title</th>\n",
       "      <th>news_content</th>\n",
       "      <th>content_remove_html_tag</th>\n",
       "      <th>label</th>\n",
       "    </tr>\n",
       "  </thead>\n",
       "  <tbody>\n",
       "    <tr>\n",
       "      <th>0</th>\n",
       "      <td>../datasets/news/2018-02-12/9b2e10c5-1eee-4081...</td>\n",
       "      <td>20180212104054</td>\n",
       "      <td>9B2E10C5-1EEE-4081-A3AB-566A99845EF5</td>\n",
       "      <td>《1月營收》出貨迎成長，醫揚/聯合創新高                          ...</td>\n",
       "      <td>\\n&lt;P&gt;MoneyDJ新聞 2018-02-12 10:40:54 記者 劉莞青 報導&lt;/...</td>\n",
       "      <td>MoneyDJ新聞 2018-02-12 10:40:54 記者 劉莞青 報導聯合(4129...</td>\n",
       "      <td>1</td>\n",
       "    </tr>\n",
       "    <tr>\n",
       "      <th>1</th>\n",
       "      <td>../datasets/news/2018-02-12/3e3b2e23-2780-4aae...</td>\n",
       "      <td>20180212095805</td>\n",
       "      <td>3E3B2E23-2780-4AAE-9B54-BC01F2E29526</td>\n",
       "      <td>《1月營收》被動元件、擴產各擁題材，多家營收創高                      ...</td>\n",
       "      <td>\\n&lt;P&gt;MoneyDJ新聞 2018-02-12 09:58:05 記者 林詩茵 報導&lt;/...</td>\n",
       "      <td>MoneyDJ新聞 2018-02-12 09:58:05 記者 林詩茵 報導被動元件廠商受...</td>\n",
       "      <td>1</td>\n",
       "    </tr>\n",
       "    <tr>\n",
       "      <th>2</th>\n",
       "      <td>../datasets/news/2018-02-12/d9865670-a654-43c7...</td>\n",
       "      <td>20180212132606</td>\n",
       "      <td>D9865670-A654-43C7-B7B2-9CBE04511E20</td>\n",
       "      <td>《1月營收》文創遊戲更改營收認列方式 橘子續創高                      ...</td>\n",
       "      <td>\\n&lt;P&gt;MoneyDJ新聞 2018-02-12 13:26:06 記者 萬惠雯 報導&lt;/...</td>\n",
       "      <td>MoneyDJ新聞 2018-02-12 13:26:06 記者 萬惠雯 報導\\n文化創意產...</td>\n",
       "      <td>1</td>\n",
       "    </tr>\n",
       "  </tbody>\n",
       "</table>\n",
       "</div>"
      ],
      "text/plain": [
       "                                                path            date  \\\n",
       "0  ../datasets/news/2018-02-12/9b2e10c5-1eee-4081...  20180212104054   \n",
       "1  ../datasets/news/2018-02-12/3e3b2e23-2780-4aae...  20180212095805   \n",
       "2  ../datasets/news/2018-02-12/d9865670-a654-43c7...  20180212132606   \n",
       "\n",
       "                              news_guid  \\\n",
       "0  9B2E10C5-1EEE-4081-A3AB-566A99845EF5   \n",
       "1  3E3B2E23-2780-4AAE-9B54-BC01F2E29526   \n",
       "2  D9865670-A654-43C7-B7B2-9CBE04511E20   \n",
       "\n",
       "                                               title  \\\n",
       "0  《1月營收》出貨迎成長，醫揚/聯合創新高                          ...   \n",
       "1  《1月營收》被動元件、擴產各擁題材，多家營收創高                      ...   \n",
       "2  《1月營收》文創遊戲更改營收認列方式 橘子續創高                      ...   \n",
       "\n",
       "                                        news_content  \\\n",
       "0  \\n<P>MoneyDJ新聞 2018-02-12 10:40:54 記者 劉莞青 報導</...   \n",
       "1  \\n<P>MoneyDJ新聞 2018-02-12 09:58:05 記者 林詩茵 報導</...   \n",
       "2  \\n<P>MoneyDJ新聞 2018-02-12 13:26:06 記者 萬惠雯 報導</...   \n",
       "\n",
       "                             content_remove_html_tag  label  \n",
       "0  MoneyDJ新聞 2018-02-12 10:40:54 記者 劉莞青 報導聯合(4129...      1  \n",
       "1  MoneyDJ新聞 2018-02-12 09:58:05 記者 林詩茵 報導被動元件廠商受...      1  \n",
       "2  MoneyDJ新聞 2018-02-12 13:26:06 記者 萬惠雯 報導\\n文化創意產...      1  "
      ]
     },
     "execution_count": 8,
     "metadata": {},
     "output_type": "execute_result"
    }
   ],
   "source": [
    "bert_test_data_with_target = user_based_recommendation\n",
    "bert_test_data_with_target.head(3)"
   ]
  },
  {
   "cell_type": "code",
   "execution_count": 9,
   "metadata": {},
   "outputs": [],
   "source": [
    "bert_test_data_with_target.to_csv('/python/recommender_system/bert_test_data_with_target.csv', index = 0)"
   ]
  },
  {
   "cell_type": "code",
   "execution_count": 10,
   "metadata": {},
   "outputs": [],
   "source": [
    "data_for_bert = []\n",
    "for i in range(len(user_based_recommendation)):\n",
    "    data_for_bert.append((i, #guid\n",
    "                          user_based_recommendation.iloc[i,:]['title'].strip() + ' ' + user_based_recommendation.iloc[i,:][\"content_remove_html_tag\"],#text_a\n",
    "                          None, #text_b\n",
    "                          user_based_recommendation.iloc[i,:].label #label 雖然用不到但還是得給\n",
    "                         ))\n",
    "\n",
    "test = data_for_bert"
   ]
  },
  {
   "cell_type": "code",
   "execution_count": 11,
   "metadata": {},
   "outputs": [
    {
     "data": {
      "text/plain": [
       "(0,\n",
       " '《1月營收》出貨迎成長，醫揚/聯合創新高 MoneyDJ新聞 2018-02-12 10:40:54 記者 劉莞青 報導聯合(4129)持續受到旺季帶動，各地市場出貨成長，加上去年從第二季起才併入冠亞生技營收，第一季營收基期仍低，聯合元月營收來到2.12億元、月增15%、年增110%、創下新高，而醫療工業電腦廠商醫揚(6569)也受惠於年底行動護理專案持續出貨，元月營收也創下歷史新高。另外包括邦特(4107)、泰博(4736)元月持續受到客戶出貨成長，也帶動邦特、泰博元月營收年增來到兩成以上。去年因歐洲客戶受到選舉年干擾，專案預算遞延至年底才開始陸續出貨，而受惠於行動護理產品等專案持續於元月出貨，醫揚元月營收來到1.48億元、月增24%、年增46%，也創下歷史新高；而聯合骨科則是在傳統旺季拉抬下，各市場出貨穩健成長，而且因為去年自4月起併入冠亞生技營收，第一季基期仍低，併購效益仍強，單月營收來到2.12億元，年增110%，單月營收亦創歷史新高。另外在醫療耗材方面，邦特因菲律賓廠接獲國際大廠客戶訂單，以及持續切入當地洗腎中心有成，元月營收來到1.31億元、大致持平前月成績，年增約28%；而血糖儀廠商泰博貴金屬試片也獲客戶採用，第一季開始拉貨，元月營收單月3.15億元，但因區域中小型客戶較多積極於年底旺季拉貨，元月營收月減約1成，但相較去年同期仍成長約28.5%。至於在隱形眼鏡方面，精華(1565)因有3條新線投產，單月營收也來到5.73元，月增4%，月增幅度較低主要係因精華報價以美元為主，元月受到台幣持續走強影響，新線貢獻受到匯率壓抑，但在出貨量增加帶動下，營收年增仍有26%。',\n",
       " None,\n",
       " 1)"
      ]
     },
     "execution_count": 11,
     "metadata": {},
     "output_type": "execute_result"
    }
   ],
   "source": [
    "test[0]"
   ]
  },
  {
   "cell_type": "code",
   "execution_count": 12,
   "metadata": {},
   "outputs": [],
   "source": [
    "with open('bert_test.p',mode = 'wb') as pickle_file:\n",
    "    pickle.dump(test, pickle_file)"
   ]
  },
  {
   "cell_type": "markdown",
   "metadata": {},
   "source": [
    "#############################################################################\n",
    "#########################  init_checkpoint 有重新 train ， 模型就要改  ####################"
   ]
  },
  {
   "cell_type": "code",
   "execution_count": 13,
   "metadata": {},
   "outputs": [
    {
     "name": "stderr",
     "output_type": "stream",
     "text": [
      "Traceback (most recent call last):\n",
      "  File \"D:\\Anaconda3\\lib\\site-packages\\tensorflow\\python\\platform\\self_check.py\", line 75, in preload_check\n",
      "    ctypes.WinDLL(build_info.cudart_dll_name)\n",
      "  File \"D:\\Anaconda3\\lib\\ctypes\\__init__.py\", line 356, in __init__\n",
      "    self._handle = _dlopen(self._name, mode)\n",
      "OSError: [WinError 126] 找不到指定的模組。\n",
      "\n",
      "During handling of the above exception, another exception occurred:\n",
      "\n",
      "Traceback (most recent call last):\n",
      "  File \"run_classifier.py\", line 24, in <module>\n",
      "    import modeling\n",
      "  File \"D:\\python\\recommender_system\\project-BERt\\bert\\modeling.py\", line 28, in <module>\n",
      "    import tensorflow as tf\n",
      "  File \"D:\\Anaconda3\\lib\\site-packages\\tensorflow\\__init__.py\", line 28, in <module>\n",
      "    from tensorflow.python import pywrap_tensorflow  # pylint: disable=unused-import\n",
      "  File \"D:\\Anaconda3\\lib\\site-packages\\tensorflow\\python\\__init__.py\", line 49, in <module>\n",
      "    from tensorflow.python import pywrap_tensorflow\n",
      "  File \"D:\\Anaconda3\\lib\\site-packages\\tensorflow\\python\\pywrap_tensorflow.py\", line 30, in <module>\n",
      "    self_check.preload_check()\n",
      "  File \"D:\\Anaconda3\\lib\\site-packages\\tensorflow\\python\\platform\\self_check.py\", line 82, in preload_check\n",
      "    % (build_info.cudart_dll_name, build_info.cuda_version_number))\n",
      "ImportError: Could not find 'cudart64_100.dll'. TensorFlow requires that this DLL be installed in a directory that is named in your %PATH% environment variable. Download and install CUDA 10.0 from this URL: https://developer.nvidia.com/cuda-90-download-archive\n"
     ]
    }
   ],
   "source": [
    "######## init_checkpoint 有重新 train 模型就要改\n",
    "!python run_classifier.py \\\n",
    "  --task_name=News \\\n",
    "  --do_predict=true \\\n",
    "  --data_dir=. \\\n",
    "  --vocab_file=chinese_L-12_H-768_A-12/vocab.txt \\\n",
    "  --bert_config_file=chinese_L-12_H-768_A-12/bert_config.json \\\n",
    "  --init_checkpoint=tmp/news_output/model.ckpt-18200.index \\\n",
    "  --max_seq_length=512 \\\n",
    "  --output_dir=tmp/news_output/test_output \\"
   ]
  },
  {
   "cell_type": "code",
   "execution_count": null,
   "metadata": {},
   "outputs": [],
   "source": []
  },
  {
   "cell_type": "code",
   "execution_count": null,
   "metadata": {},
   "outputs": [],
   "source": []
  },
  {
   "cell_type": "code",
   "execution_count": null,
   "metadata": {},
   "outputs": [],
   "source": []
  }
 ],
 "metadata": {
  "kernelspec": {
   "display_name": "Python 3",
   "language": "python",
   "name": "python3"
  },
  "language_info": {
   "codemirror_mode": {
    "name": "ipython",
    "version": 3
   },
   "file_extension": ".py",
   "mimetype": "text/x-python",
   "name": "python",
   "nbconvert_exporter": "python",
   "pygments_lexer": "ipython3",
   "version": "3.7.3"
  }
 },
 "nbformat": 4,
 "nbformat_minor": 2
}
